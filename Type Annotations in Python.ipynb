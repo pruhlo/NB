{
 "cells": [
  {
   "cell_type": "markdown",
   "id": "d636f69f",
   "metadata": {},
   "source": [
    "## Анотації типів у Python"
   ]
  },
  {
   "cell_type": "markdown",
   "id": "2ec88553",
   "metadata": {},
   "source": [
    "У [цій статті][стаття] розповідаємо, що таке анотації типів, який у них синтаксис та найкращі практики їх застосування.  \n",
    "    Перевірка типів – одна з найважливіших особливостей будь-якої сучасної програмування; саме завдяки ній з'явився TypeScript. Перевірка типів не тільки полегшує розширення кодової бази та роботу з нею в цілому, але й швидко, надійно та автоматично виявляє багато помилок програмування.  \n",
    "    Вперше представлені в Python 3.5, анотації типів є основним способом позначення типів для змінних та функцій у Python.\n",
    ">Анотації типів не забезпечують перевірку типів лише на рівні інтерпретатора. Вони призначені для використання розробниками, середовищами розробки, лінтерами, програмами перевірки типів і т.д.\n",
    "\n",
    "З технічної точки зору, мова Python має _динамічну_ типізацію, тому типи відомі тільки під час виконання, а не під час компіляції (як це відбувається в мовах зі статичною типізацією, таких як C #). Однак варто згадати, що спільнота Python спільно розробила варіант інтерпретатора Python, який забезпечує статичну перевірку типів.\n",
    "\n",
    "У [цій статті][стаття] ми розглянемо, як впровадити перевірку типів Python у наше робоче середовище таким чином, щоб зменшити труднощі під час інтеграції з модулями проектів.\n",
    "\n",
    "### Синтаксис анотації типів\n",
    "Python підтримує інструкцію типів для основних типів змінних, що підтримуються мовою: `str`, `int`, `float`, `bool` і `None`. Крім того, до комплекту входить модуль `typing`, що дозволяє використовувати більш спеціалізовані типи.\n",
    "### Анотація змінних\n",
    "Щоб вказати тип змінної в Python, просто додайте двокрапку з пробілом, за яким слідує тип (`str`, `int`, `List[]` і т. д.), відразу після імені змінної.\n",
    "[стаття]: https://proglib.io/p/annotacii-tipov-v-python-vse-chto-nuzhno-znat-za-5-minut-2022-01-30"
   ]
  },
  {
   "cell_type": "code",
   "execution_count": 1,
   "id": "bb23cd25",
   "metadata": {},
   "outputs": [],
   "source": [
    "from typing import List\n",
    "\n",
    "name: str = 'Tommy'\n",
    "age: int = 24\n",
    "height_in_meters: float = 1.7\n",
    "colleagues: List[str] = ['Alicia', 'John']"
   ]
  },
  {
   "cell_type": "markdown",
   "id": "49a1286d",
   "metadata": {},
   "source": [
    "### Анотація функцій\n",
    "Синтаксис інструкції змінних працює й у параметрів функций. Однак, щоб вказати тип повернення (`return`), ми додаємо стрілку `->`, за якою слідує його тип."
   ]
  },
  {
   "cell_type": "code",
   "execution_count": 4,
   "id": "d98150c1",
   "metadata": {},
   "outputs": [],
   "source": [
    "from typing import Dict, List\n",
    "\n",
    "\n",
    "def convert_celcius_to_fahrenheit(celcius_temp: float) -> float:\n",
    "    return (celcius_temp * 9/5) + 32\n",
    "\n",
    "def send_email(subject: str, body: str, recipients: List[str], cache: Dict[str, str]) -> bool:\n",
    "    # пропущено для стислості\n",
    "    return True  # или False"
   ]
  },
  {
   "cell_type": "markdown",
   "id": "a3cd117e",
   "metadata": {},
   "source": [
    "### Використання спеціальних типів\n",
    "Отже, коли ми розігрілися і познайомилися з синтаксисом анотацій типів, познайомимося з більш складними типами.\n",
    "\n",
    "#### Any\n",
    "Змінна типу `Any` є необмеженою. Тому такі змінні сумісні з іншими типами (`int`, `str`, `List` тощо.), проте інші типи сумісні із нею."
   ]
  },
  {
   "cell_type": "code",
   "execution_count": 5,
   "id": "8777459b",
   "metadata": {},
   "outputs": [],
   "source": [
    "from typing import Any\n",
    "\n",
    "result: Any = \"SUCCESS\"\n",
    "\n",
    "# також працює, тому що змінні типу Any сумісні з іншими типами\n",
    "result = 10\n",
    "\n",
    "state: str = \"PENDING\"\n",
    "\n",
    "# працює, тому що всі інші типи сумісні з Any.\n",
    "state = result"
   ]
  },
  {
   "cell_type": "markdown",
   "id": "23d3a3b7",
   "metadata": {},
   "source": [
    "#### Literal\n",
    "Літерали використовуються для вказівки програм перевірки типів, що значення, яке має змінна або функція, дорівнює одному із зазначених значень."
   ]
  },
  {
   "cell_type": "code",
   "execution_count": 7,
   "id": "cf026577",
   "metadata": {},
   "outputs": [
    {
     "data": {
      "text/plain": [
       "{'first_name': 'John', 'last_name': 'Bond', 'gender': 'male'}"
      ]
     },
     "execution_count": 7,
     "metadata": {},
     "output_type": "execute_result"
    }
   ],
   "source": [
    "from typing import Literal\n",
    "\n",
    "GENDER = Literal[\"male\", \"female\", \"non–conforming\"]\n",
    "\n",
    "def create_user(first_name: str, last_name: str, gender: GENDER) -> dict[str, str, GENDER]:\n",
    "    return {\"first_name\": first_name, \"last_name\": last_name, \"gender\": gender}\n",
    "\n",
    "create_user(\"John\", \"Bond\", \"male\")"
   ]
  },
  {
   "attachments": {
    "image.png": {
     "image/png": "[encoded data removed]"
    }
   },
   "cell_type": "markdown",
   "id": "622f5f1d",
   "metadata": {},
   "source": [
    "У наведеному вище прикладі стать буде одним із значень літерального оголошення GENDER – «чоловічий», «жіночий» або «non–conforming».\n",
    "![image.png](attachment:image.png)\n",
    "\n",
    "#### Union\n",
    "Іноді змінна може мати властивості, що охоплюють два оголошені типи. Змінна може бути двох типів."
   ]
  },
  {
   "cell_type": "code",
   "execution_count": 9,
   "id": "ec42b27a",
   "metadata": {},
   "outputs": [],
   "source": [
    "from typing import Union\n",
    "\n",
    "\n",
    "def get_room_temperature() -> Union[int, float]:\n",
    "    return 20.8  # 20 теж спрацює"
   ]
  },
  {
   "cell_type": "markdown",
   "id": "1a4c8174",
   "metadata": {},
   "source": [
    "#### TypedDict\n",
    "Словники, будучи однією з найпростіших форм структури даних у Python, є одним з типових змінних, що використовуються в мові.\n",
    "\n",
    "Використання `TypedDict` може значно покращити читання коду, особливо у великому проекті, де багато оголошень у різних місцях; відстеження того, що куди йде, стає скрутним у міру зміни розміру проекту."
   ]
  },
  {
   "cell_type": "code",
   "execution_count": 10,
   "id": "3ffd40df",
   "metadata": {},
   "outputs": [],
   "source": [
    "from typing import TypedDict, Union\n",
    "\n",
    "\n",
    "class Card(TypedDict):\n",
    "    rank: Union[str, int]\n",
    "    suit: str\n",
    "\n",
    "# клас Card тепер має поведінку обох класів TypedDict та dict\n",
    "\n",
    "# Card може бути використаний для анотації змінної\n",
    "ace_of_spade: Card = {'rank': 'A', 'suit': '♤'}\n",
    "\n",
    "# або може бути інстанційований\n",
    "ace_of_spade = Card(rank='A', suit='♤')"
   ]
  },
  {
   "cell_type": "markdown",
   "id": "035698b6",
   "metadata": {},
   "source": [
    "#### NoReturn\n",
    "Тип `NoReturn` подібний до типу `void` в інших мовах програмування. Він використовується для оголошення, що функція не має повернення."
   ]
  },
  {
   "cell_type": "code",
   "execution_count": 12,
   "id": "9115e350",
   "metadata": {},
   "outputs": [],
   "source": [
    "from typing import NoReturn\n",
    "\n",
    "\n",
    "def say_greeting() -> NoReturn:\n",
    "    print(\"Hello World!\")"
   ]
  },
  {
   "cell_type": "markdown",
   "id": "701c5e6b",
   "metadata": {},
   "source": [
    "#### Final\n",
    "Це конструкція типізації, яка використовується для вказівки того, що змінна не повинна бути повторно призначена чи перевизначена у підкласі."
   ]
  },
  {
   "cell_type": "code",
   "execution_count": null,
   "id": "ec7fb830",
   "metadata": {},
   "outputs": [],
   "source": [
    "from typing import Final\n",
    "\n",
    "MIN_NAME_LENGTH: Final = 2\n",
    "\n",
    "# видасть помилку, зафіксовану системою перевірки типів\n",
    "MIN_NAME_LENGTH += 1\n",
    "\n",
    "class Validator(object):\n",
    "    MIN_NAME_LENGTH: Final[int] = 4\n",
    "\n",
    "class UserValidator(Validator):\n",
    "    # цей рядок буде відзначений інтерпретатором\n",
    "    MIN_NAME_LENGTH = 3\n",
    "\n"
   ]
  },
  {
   "cell_type": "markdown",
   "id": "42bb7962",
   "metadata": {},
   "source": [
    "### Використання статичної перевірки типів у Python\n",
    "Інтерпретатор за промовчанням Python не здійснює перевірку типів. Проте було створено версію інтерпретатора Python – `mypy`, що забезпечує перевірку типів лише на рівні інтерпретатора.\n",
    "\n",
    "#### Ви можете використовувати `mypy` двома способами:\n",
    "\n",
    "Завантажити командний рядок `mypy` та використовувати його для запуску ваших скриптів Python.\n",
    "Встановити розширення `mypy`, доступне в `VSCode` та `PyCharm`.\n",
    "Найкращі практики анотації типів\n",
    "1. Використання типу Any\n",
    "Тип `Any` слід використовувати тільки тоді, коли точний тип змінної, що повертається, або параметра функції нам невідомий; це може бути при використанні сторонньої бібліотеки, яка не має анотацій типів або при використанні модуля без анотацій типів.\n",
    "\n",
    "2. Увімкніть статичну перевірку типів\n",
    "Переваги перевірки типів, що полягають у запобіганні помилкам та допомозі розробнику, будуть не такі відчутні, якщо вона буде динамічною. Якщо ви не любите командний рядок `mypy`, ви можете встановити його як розширення `VSCode` або `PyCharm`.\n",
    "\n",
    "3. Використовуйте кортежі для масивів фіксованої довжини\n",
    "Кортежі виконують подвійну функцію записування. Тому, коли у вас є відома кількість елементів у масиві, особливо коли вони не всі одного типу, для змінної краще використовувати тип кортежу.\n",
    "\n",
    "4. Типи повернення функцій\n",
    "Функції повинні виконувати одну і тільки одну дію, тому вони повинні мати певний тип."
   ]
  },
  {
   "cell_type": "code",
   "execution_count": null,
   "id": "75e4794f",
   "metadata": {},
   "outputs": [],
   "source": []
  }
 ],
 "metadata": {
  "kernelspec": {
   "display_name": "Python 3 (ipykernel)",
   "language": "python",
   "name": "python3"
  },
  "language_info": {
   "codemirror_mode": {
    "name": "ipython",
    "version": 3
   },
   "file_extension": ".py",
   "mimetype": "text/x-python",
   "name": "python",
   "nbconvert_exporter": "python",
   "pygments_lexer": "ipython3",
   "version": "3.10.5"
  }
 },
 "nbformat": 4,
 "nbformat_minor": 5
}
