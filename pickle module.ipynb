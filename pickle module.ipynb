{
 "cells": [
  {
   "cell_type": "markdown",
   "id": "99e8668b",
   "metadata": {},
   "source": [
    "# Модуль pickle. Серіалізація об'єктів. Приклади використання для запису/читання інформації з бінарних файлів"
   ]
  },
  {
   "cell_type": "markdown",
   "id": "0f25c297",
   "metadata": {},
   "source": [
    "[origin link](https://www.bestprog.net/ru/2020/05/06/python-module-pickle-serialization-of-objects-examples-of-use-for-writing-reading-information-from-binary-files-ru/)"
   ]
  },
  {
   "cell_type": "markdown",
   "id": "8b1ac66a",
   "metadata": {},
   "source": [
    "## 1. Модуль pickle. Серіалізація/десеріалізація об'єктів. Призначення\n",
    "\n",
    "Модуль pickle дозволяє зберігати у файлах будь-які об'єкти Python без використання зайвих перетворень. Загалом модуль pickle реалізує двійковий протокол для серіалізації та десеріалізації об'єктів. Під серіалізацією розуміється перетворення об'єктів у рядок байт. Десеріалізація передбачає зворотну операцію конвертування потоку байт у вихідний об'єкт.\n",
    "\n",
    "За допомогою модуля pickle можна:\n",
    "\n",
    "* реалізовувати перетворення ієрархії об'єктів на потік байтів (pickling). Потоком байтів може бути, наприклад, файл;\n",
    "* виконувати зворотне перетворення потоку байтів на ієрархію об'єктів (unpickling). Потік байтів можна отримати з двійкового файлу чи байтового об'єкта."
   ]
  },
  {
   "cell_type": "markdown",
   "id": "d4e99670",
   "metadata": {},
   "source": [
    "## 2. Використання модуля pickle. Методи dump(), load()\n",
    "Модуль pickle використовується для роботи з об'єктами типу bytes та забезпечує серіалізацію об'єктів.\n",
    "\n",
    "Щоб використовувати методи модуля pickle, попередньо його потрібно підключити"
   ]
  },
  {
   "cell_type": "code",
   "execution_count": 1,
   "id": "011123e5",
   "metadata": {},
   "outputs": [],
   "source": [
    "import pickle"
   ]
  },
  {
   "cell_type": "markdown",
   "id": "20563830",
   "metadata": {},
   "source": [
    "Щоб записати об'єкт у файл, потрібно використовувати метод dump(). Найпростіший виклик методу виглядає так"
   ]
  },
  {
   "cell_type": "code",
   "execution_count": 2,
   "id": "b415ef91",
   "metadata": {},
   "outputs": [
    {
     "ename": "SyntaxError",
     "evalue": "iterable argument unpacking follows keyword argument unpacking (1576962734.py, line 1)",
     "output_type": "error",
     "traceback": [
      "\u001b[1;36m  Input \u001b[1;32mIn [2]\u001b[1;36m\u001b[0m\n\u001b[1;33m    pickle.dump(obj, file, protocol = None, *, fix_imports = True)\u001b[0m\n\u001b[1;37m                ^\u001b[0m\n\u001b[1;31mSyntaxError\u001b[0m\u001b[1;31m:\u001b[0m iterable argument unpacking follows keyword argument unpacking\n"
     ]
    }
   ],
   "source": [
    "pickle.dump(obj, file, protocol = None, *, fix_imports = True)"
   ]
  },
  {
   "cell_type": "markdown",
   "id": "fa8eb492",
   "metadata": {},
   "source": [
    "де\n",
    "\n",
    "* **obj** - об'єкт, що зберігається. Цим об'єктом може бути число, рядок, список, кортеж, множина, словник або інший об'єкт;\n",
    "* **file** – бінарний файл, у якому об'єкт може бути збережений.  \n",
    "Для читання об'єкта із файлу використовується метод load(). У найпростішому випадку виклик методу load() наступний"
   ]
  },
  {
   "cell_type": "code",
   "execution_count": null,
   "id": "1ce0a7e9",
   "metadata": {},
   "outputs": [],
   "source": [
    "obj = pickle.load(file)"
   ]
  },
  {
   "cell_type": "markdown",
   "id": "7bce3379",
   "metadata": {},
   "source": [
    "тут `obj` - об'єкт, який отримується з файлу `file`."
   ]
  },
  {
   "cell_type": "markdown",
   "id": "470cd756",
   "metadata": {},
   "source": [
    "## 3. Читання/запис списку, що містить речові числа. приклад\n",
    "За допомогою методів `dump()` та `load()` модуля `pickle` можна зберігати різноманітні списки у файлах. При цьому не потрібно робити додаткових перетворень."
   ]
  },
  {
   "cell_type": "code",
   "execution_count": 3,
   "id": "ba88ac07",
   "metadata": {},
   "outputs": [
    {
     "name": "stdout",
     "output_type": "stream",
     "text": [
      "L2 =  [2.85, 3.35, -1.77, 9.2]\n"
     ]
    }
   ],
   "source": [
    "# Модуль pickle. Робота з файлами\n",
    "# Запис/читання списку, що містить речові числа\n",
    "\n",
    "# 1. Вихідний список\n",
    "L = [2.85, 3.35, -1.77, 9.2]\n",
    "\n",
    "# 2. Підключити модуль pickle\n",
    "import pickle\n",
    "\n",
    "# 3. Запис списку до бінарного файлу\n",
    "# 3.1. Відкрити файл для запису\n",
    "f = open('myfile.bin', 'wb')\n",
    "\n",
    "# 3.2. Зберегти список L у файлі f\n",
    "pickle.dump(L, f)\n",
    "\n",
    "# 3.3. Закрити файл\n",
    "f.close()\n",
    "\n",
    "# 4. Читання списку з файлу\n",
    "# 4.1. Відкрити файл для читання\n",
    "f = open('myfile.bin', 'rb')\n",
    "\n",
    "# 4.2. Рахувати список з файлу\n",
    "L2 = pickle.load(f)\n",
    "\n",
    "# 4.3. Вивести список L2\n",
    "print('L2 = ', L2) # L2 = [2.85, 3.35, -1.77, 9.2]\n",
    "\n",
    "# 4.4. Закрити файл\n",
    "f.close()"
   ]
  },
  {
   "cell_type": "markdown",
   "id": "a5d3f23a",
   "metadata": {},
   "source": [
    "## 4. Запис/читання кортежу, що містить рядки. приклад\n",
    "Запис та читання кортежу не відрізняється від запису та читання списку чи будь-якого іншого об'єкта."
   ]
  },
  {
   "cell_type": "code",
   "execution_count": 4,
   "id": "0fdbc0c4",
   "metadata": {},
   "outputs": [
    {
     "name": "stdout",
     "output_type": "stream",
     "text": [
      "T2 =  ('abc', 'abcd', 'cde', 'fgh hij')\n"
     ]
    }
   ],
   "source": [
    "# Модуль pickle. Робота з бінарними файлами\n",
    "# Запис/читання кортежу\n",
    "\n",
    "# 1. Заданий кортеж рядків\n",
    "T = ( 'abc', 'abcd', 'cde', 'fgh hij')\n",
    "\n",
    "# 2. Підключити модуль pickle\n",
    "import pickle\n",
    "\n",
    "# 3. Зберегти кортеж у файлі\n",
    "# 3.1. Відкрити файл для запису\n",
    "f = open('myfile.bin', 'wb')\n",
    "\n",
    "# 3.2. Зберегти кортеж T у файлі f\n",
    "pickle.dump(T, f)\n",
    "\n",
    "# 3.3. Закрити файл\n",
    "f.close()\n",
    "\n",
    "# 4. Читання кортежу з файлу\n",
    "# 4.1. Відкрити файл для читання\n",
    "f = open('myfile.bin', 'rb')\n",
    "\n",
    "# 4.2. Вважати кортеж із файлу\n",
    "T2 = pickle.load(f)\n",
    "\n",
    "# 4.3. Закрити файл\n",
    "f.close()\n",
    "\n",
    "# 5. Вивести кортеж\n",
    "print('T2 = ', T2) # T2 = ('abc', 'abcd', 'cde', 'fgh hij')"
   ]
  },
  {
   "cell_type": "markdown",
   "id": "a5b8cc52",
   "metadata": {},
   "source": [
    "## 5. Читання/запис множини з різнотипними даними. приклад"
   ]
  },
  {
   "cell_type": "code",
   "execution_count": 5,
   "id": "d49c8b16",
   "metadata": {},
   "outputs": [
    {
     "name": "stdout",
     "output_type": "stream",
     "text": [
      "M2 =  {True, 2, 'abcde', 5.85}\n"
     ]
    }
   ],
   "source": [
    "# Модуль pickle. Робота з бінарними файлами\n",
    "# Запис/читання множини\n",
    "\n",
    "# 1. Задана множина різнотипних об'єктів\n",
    "M = { 2, 5.85, True, 'abcde'}\n",
    "\n",
    "# 2. Підключити модуль pickle\n",
    "import pickle\n",
    "\n",
    "# 3. Зберегти множину у файлі\n",
    "# 3.1. Відкрити файл для запису\n",
    "f = open('myfile.bin', 'wb')\n",
    "\n",
    "# 3.2. Зберегти множину M у файлі f\n",
    "pickle.dump(M, f)\n",
    "\n",
    "# 3.3. Закрити файл\n",
    "f.close()\n",
    "\n",
    "# 4. Читання множини з файлу\n",
    "# 4.1. Відкрити файл для читання\n",
    "f = open('myfile.bin', 'rb')\n",
    "\n",
    "# 4.2. Прочитати безліч із файлу\n",
    "M2 = pickle.load(f)\n",
    "\n",
    "# 4.3. Закрити файл\n",
    "f.close()\n",
    "\n",
    "# 5. Вивести безліч\n",
    "print('M2 = ', M2) # M2 = {True, 5.85, 2, 'abcde'}"
   ]
  },
  {
   "cell_type": "markdown",
   "id": "9baaaa4d",
   "metadata": {},
   "source": [
    "## 6. Запис/читання різнотипних об'єктів: списку, кортежу та словника. приклад\n",
    "У цьому прикладі продемонстровано можливості модуля `pickle` для збереження об'єктів різних типів: списку, кортежу та словника."
   ]
  },
  {
   "cell_type": "code",
   "execution_count": 6,
   "id": "7c57b5fc",
   "metadata": {},
   "outputs": [
    {
     "name": "stdout",
     "output_type": "stream",
     "text": [
      "L2 =  [True, 'abc', 2.5, 100]\n",
      "T2 =  (2.55, False, 'Hello')\n",
      "D2 =  {1: 'abc', 2: 2.55, 'Three': False}\n"
     ]
    }
   ],
   "source": [
    "# Модуль pickle. Робота з файлами\n",
    "# Запис/читання різнотипних об'єктів\n",
    "\n",
    "# 1. Вхідні дані\n",
    "# 1.1. Початковий список\n",
    "L = [True, 'abc', 2.5, 100]\n",
    "\n",
    "# 1.2. Вихідний кортеж\n",
    "T = (2.55, False, 'Hello')\n",
    "\n",
    "# 1.3. Словник із різнотипними об'єктами\n",
    "D = { 1: 'abc', 2:2.55, 'Three': False }\n",
    "\n",
    "# 2. Підключити модуль pickle\n",
    "import pickle\n",
    "\n",
    "# 3. Запис даних у бінарний файл\n",
    "# 3.1. Відкрити файл для запису\n",
    "f = open('myfile.bin', 'wb')\n",
    "\n",
    "# 3.2. Зберегти список L у файл f\n",
    "pickle.dump(L, f)\n",
    "\n",
    "# 3.3. Зберегти кортеж у файл\n",
    "pickle.dump(T, f)\n",
    "\n",
    "# 3.4. Зберегти словник D у файлі f\n",
    "pickle.dump(D, f)\n",
    "\n",
    "# 3.5. Закрити файл\n",
    "f.close()\n",
    "\n",
    "# 4. Читання списку з файлу\n",
    "# 4.1. Відкрити файл для читання\n",
    "f = open('myfile.bin', 'rb')\n",
    "\n",
    "# 4.2. Прочитати список із файлу\n",
    "L2 = pickle.load(f)\n",
    "\n",
    "# 4.3. Прочитати кортеж із файлу\n",
    "T2 = pickle.load(f)\n",
    "\n",
    "# 4.4. Прочитати словник із файлу\n",
    "D2 = pickle.load(f)\n",
    "\n",
    "# 4.5. Вивести список, кортеж та словник\n",
    "print('L2 = ', L2) # L2 = [True, 'abc', 2.5, 100]\n",
    "print('T2 = ', T2) # T2 = (2.55, False, 'Hello')\n",
    "print('D2 = ', D2) # D2 = {1: 'abc', 2: 2.55, 'Three': False}\n",
    "\n",
    "# 4.6. Закрити файл\n",
    "f.close()"
   ]
  },
  {
   "cell_type": "code",
   "execution_count": null,
   "id": "716cd775",
   "metadata": {},
   "outputs": [],
   "source": []
  }
 ],
 "metadata": {
  "kernelspec": {
   "display_name": "Python 3 (ipykernel)",
   "language": "python",
   "name": "python3"
  },
  "language_info": {
   "codemirror_mode": {
    "name": "ipython",
    "version": 3
   },
   "file_extension": ".py",
   "mimetype": "text/x-python",
   "name": "python",
   "nbconvert_exporter": "python",
   "pygments_lexer": "ipython3",
   "version": "3.10.5"
  }
 },
 "nbformat": 4,
 "nbformat_minor": 5
}
