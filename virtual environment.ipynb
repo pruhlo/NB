{
 "cells": [
  {
   "cell_type": "markdown",
   "id": "39e8b27f",
   "metadata": {},
   "source": [
    "# 1 Step\n",
    "\n",
    "1.1 Для створення віртуального оточення потрібно перейти до папки в якій буде віртуальне середовище\n",
    "1.2 У відкритій, чи створеній директорії Windows (правою клавішою миші) відкрити Git Bash (якщо не встановлений, установити (Git)[https://git-scm.com/downloads]) \n",
    "\n",
    "# 2 Step\n",
    "\n",
    "2.1 У консолі, що відкрилась ввести команду `python -m venv env`, де `env` назва віртуального середовища. Якщо venv не установлений, його потрібно установити через ту ж консоль: <br>\n",
    "`pip install venv`\n",
    "\n",
    "2.2 В директорії `env`(створиться автоматично) запустити `source Scripts/activate`\n",
    "\n",
    "> готово, віртуальне оточення створене та активоване: можна встановлювати пакети...\n",
    ">!!! Потрібно бути уважним, щоб віртуальне оточення було активоване!!!\n",
    "\n",
    "# 3 Step\n",
    "Оновлюємо pip `python -m pip install --upgrade pip`<br>\n",
    "найзастосовуваніші мною пакети:<br>\n",
    "`pip install jupyter` <br>\n",
    "`pip install pandas` (додатково установиться залежність `numpy`)<br>\n",
    "`pip install matplotlib`<br>\n",
    "`pip install seaborn`(додатково установиться залежність `scipy`)<br>\n",
    "`pip install statsmodels`<br>\n",
    "`pip install -U scikit-learn`<br>\n",
    "`pip install xgboost`<br>\n",
    "`pip install openpyxl`<br>"
   ]
  },
  {
   "cell_type": "markdown",
   "id": "8cf94b03",
   "metadata": {},
   "source": [
    "python -m venv env\n",
    "source Scripts/activate"
   ]
  }
 ],
 "metadata": {
  "kernelspec": {
   "display_name": "Python 3 (ipykernel)",
   "language": "python",
   "name": "python3"
  },
  "language_info": {
   "codemirror_mode": {
    "name": "ipython",
    "version": 3
   },
   "file_extension": ".py",
   "mimetype": "text/x-python",
   "name": "python",
   "nbconvert_exporter": "python",
   "pygments_lexer": "ipython3",
   "version": "3.10.5"
  }
 },
 "nbformat": 4,
 "nbformat_minor": 5
}
